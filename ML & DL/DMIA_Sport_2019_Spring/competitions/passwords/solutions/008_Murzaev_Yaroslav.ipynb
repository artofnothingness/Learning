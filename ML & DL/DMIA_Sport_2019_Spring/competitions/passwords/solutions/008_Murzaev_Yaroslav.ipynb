{
 "cells": [
  {
   "cell_type": "code",
   "execution_count": 1,
   "metadata": {},
   "outputs": [],
   "source": [
    "import pandas as pd\n",
    "import matplotlib.pyplot as plt\n",
    "import numpy as np\n",
    "import math\n",
    "import os\n",
    "import tqdm\n",
    "import string\n",
    "\n",
    "from sklearn.model_selection import train_test_split\n",
    "from lightgbm import LGBMRegressor\n",
    "from lightgbm import LGBMClassifier"
   ]
  },
  {
   "cell_type": "markdown",
   "metadata": {},
   "source": [
    "Data extraction"
   ]
  },
  {
   "cell_type": "code",
   "execution_count": 2,
   "metadata": {},
   "outputs": [],
   "source": [
    "os.chdir('./data')"
   ]
  },
  {
   "cell_type": "code",
   "execution_count": 39,
   "metadata": {},
   "outputs": [
    {
     "data": {
      "text/plain": [
       "array(['10-million-password-list-top-100.txt',\n",
       "       '10-million-password-list-top-1000.txt',\n",
       "       '10-million-password-list-top-10000.txt',\n",
       "       '10-million-password-list-top-100000.txt',\n",
       "       '10-million-password-list-top-1000000.txt',\n",
       "       '10-million-password-list-top-500.txt', '10k-most-common.txt',\n",
       "       '500-passwords-worst.txt', 'Submissions', 'Xtest.csv.zip',\n",
       "       'common-passwords-win.txt', 'rockyou-withcount.txt', 'rockyou.csv',\n",
       "       'sample_submission.csv.zip', 'train.csv.zip', 'words.txt'],\n",
       "      dtype='<U40')"
      ]
     },
     "execution_count": 39,
     "metadata": {},
     "output_type": "execute_result"
    }
   ],
   "source": [
    "files = np.sort(np.array(os.listdir()))\n",
    "files"
   ]
  },
  {
   "cell_type": "code",
   "execution_count": 4,
   "metadata": {},
   "outputs": [],
   "source": [
    "train = pd.read_csv('train.csv.zip')\n",
    "test = pd.read_csv('Xtest.csv.zip')"
   ]
  },
  {
   "cell_type": "markdown",
   "metadata": {},
   "source": [
    "Functions for features creation"
   ]
  },
  {
   "cell_type": "code",
   "execution_count": 5,
   "metadata": {},
   "outputs": [],
   "source": [
    "def add_top_features(data, names):\n",
    "    output = data.copy()\n",
    "    for name in tqdm.tqdm_notebook(names):\n",
    "        f_name = 'top_'+ name[:-4].split('-')[-1]\n",
    "        datka = pd.read_table(name, header=None, names=['Password', f_name])\n",
    "        datka[f_name] = 1\n",
    "        output = pd.merge(output, datka, left_on='Password', right_on='Password', how = 'left').fillna(0)\n",
    "    return output\n",
    "\n",
    "def all_features(data):\n",
    "    features = []\n",
    "    for word in tqdm.tqdm_notebook(data.Password.fillna(0).values):\n",
    "        features.append(features_create(word))\n",
    "    features = np.array(features)\n",
    "    data['N_letter'], data['UpLetter'], data['DownLetter'], data['Num'] = features[:, 0], features[:, 1], features[:, 2], features[:, 3] \n",
    "    return data\n",
    "\n",
    "def features_create(word):\n",
    "    features = [[],[],[],[]]\n",
    "    features[0] = len(word)\n",
    "    up = 0\n",
    "    lo = 0\n",
    "    nu = 0\n",
    "    for symb in word:\n",
    "        if symb.isnumeric():\n",
    "            nu += 1\n",
    "        elif symb.isupper():\n",
    "            up += 1\n",
    "        else:\n",
    "            lo += 1\n",
    "    features[1] = up\n",
    "    features[2] = lo\n",
    "    features[3] = nu\n",
    "    return features\n",
    "\n",
    "symbols = string.printable[:-6]\n",
    "def num_of_symbols(data):\n",
    "    output = data.copy()\n",
    "    features = np.zeros((len(symbols), output.shape[0]))\n",
    "    words = output.Password.values\n",
    "    for i in tqdm.tqdm_notebook(range(len(words))):\n",
    "        word = words[i]\n",
    "        for symb in word:\n",
    "            try:\n",
    "                features[symbols.find(symb)][i] += 1\n",
    "            except BaseException:\n",
    "                pass\n",
    "    for symb in symbols:\n",
    "        output[symb] = features[symbols.find(symb)]\n",
    "    return output\n",
    "\n",
    "def add_words_features(data):\n",
    "    output = data.copy()\n",
    "    f_name = 'words'\n",
    "    datka = pd.read_table('words.txt', header=None, names=['Password', f_name])\n",
    "    datka[f_name] = 1\n",
    "    output = pd.merge(output, datka, left_on='Password', right_on='Password', how = 'left').fillna(0)\n",
    "    f_name = 'win'\n",
    "    datka = pd.read_table('common-passwords-win.txt', header=None, names=['Password', f_name])\n",
    "    datka[f_name] = 1\n",
    "    output = pd.merge(output, datka, left_on='Password', right_on='Password', how = 'left').fillna(0)\n",
    "    return output\n",
    "\n",
    "def add_top_position(data):\n",
    "    output = data.copy()\n",
    "    f_name = 'top_position'\n",
    "    datka = pd.read_table('10-million-password-list-top-1000000.txt', header=None, names=['Password', f_name])\n",
    "    datka[f_name] = np.arange(datka.shape[0])\n",
    "    output = pd.merge(output, datka, left_on='Password', right_on='Password', how = 'left').fillna(0)\n",
    "    return output\n",
    "\n",
    "def add_rock_position(data):\n",
    "    output = data.copy()\n",
    "    f_name = 'rock_position'\n",
    "    datka = pd.read_csv('rockyou.csv', header=None, names=['Password', f_name])\n",
    "    datka[f_name] = np.arange(datka.shape[0])\n",
    "    output = pd.merge(output, datka, left_on='Password', right_on='Password', how = 'left').fillna(0)\n",
    "    return output\n",
    "\n",
    "def add_rock_times(data):\n",
    "    output = data.copy()\n",
    "    f_name = 'rock_times'\n",
    "    datka = pd.read_csv('rockyou.csv', header=None, names=['Password', f_name])\n",
    "    output = pd.merge(output, datka, left_on='Password', right_on='Password', how = 'left').fillna(0)\n",
    "    return output"
   ]
  },
  {
   "cell_type": "markdown",
   "metadata": {},
   "source": [
    "Features creation"
   ]
  },
  {
   "cell_type": "code",
   "execution_count": 11,
   "metadata": {
    "scrolled": true
   },
   "outputs": [
    {
     "data": {
      "application/vnd.jupyter.widget-view+json": {
       "model_id": "33d97bb4d9f04ed2b4a391aa315b6029",
       "version_major": 2,
       "version_minor": 0
      },
      "text/plain": [
       "HBox(children=(IntProgress(value=0, max=8), HTML(value='')))"
      ]
     },
     "metadata": {},
     "output_type": "display_data"
    },
    {
     "name": "stdout",
     "output_type": "stream",
     "text": [
      "\n"
     ]
    },
    {
     "data": {
      "application/vnd.jupyter.widget-view+json": {
       "model_id": "436993a3d48b4e15abcaaf4cf5d9b35b",
       "version_major": 2,
       "version_minor": 0
      },
      "text/plain": [
       "HBox(children=(IntProgress(value=0, max=4151496), HTML(value='')))"
      ]
     },
     "metadata": {},
     "output_type": "display_data"
    },
    {
     "name": "stdout",
     "output_type": "stream",
     "text": [
      "\n"
     ]
    },
    {
     "data": {
      "application/vnd.jupyter.widget-view+json": {
       "model_id": "f47d3377b73043c795ea3c4ea38c6d2a",
       "version_major": 2,
       "version_minor": 0
      },
      "text/plain": [
       "HBox(children=(IntProgress(value=0, max=4151496), HTML(value='')))"
      ]
     },
     "metadata": {},
     "output_type": "display_data"
    },
    {
     "name": "stdout",
     "output_type": "stream",
     "text": [
      "\n",
      "CPU times: user 3min 18s, sys: 1min 12s, total: 4min 30s\n",
      "Wall time: 4min 30s\n"
     ]
    }
   ],
   "source": [
    "%%time\n",
    "X = add_top_features(train.fillna('0'), files[:8])\n",
    "X = all_features(X)\n",
    "X = num_of_symbols(X)\n",
    "X = add_words_features(X)\n",
    "X = add_top_position(X)\n",
    "X = add_rock_position(X)\n",
    "X = add_rock_times(X)\n",
    "\n",
    "y = np.log(X.Times.values)"
   ]
  },
  {
   "cell_type": "markdown",
   "metadata": {},
   "source": [
    "Model control"
   ]
  },
  {
   "cell_type": "code",
   "execution_count": 15,
   "metadata": {},
   "outputs": [],
   "source": [
    "y_class = np.zeros(X.shape[0])\n",
    "y_class[X.Times.values == 1] = 1"
   ]
  },
  {
   "cell_type": "code",
   "execution_count": 16,
   "metadata": {},
   "outputs": [
    {
     "name": "stdout",
     "output_type": "stream",
     "text": [
      "CPU times: user 4min 19s, sys: 15.3 s, total: 4min 34s\n",
      "Wall time: 48.2 s\n"
     ]
    }
   ],
   "source": [
    "%%time\n",
    "classifier = LGBMClassifier(random_state=47)\n",
    "classifier.fit(X.drop(['Password', 'Times'], axis=1), y_class)"
   ]
  },
  {
   "cell_type": "code",
   "execution_count": 17,
   "metadata": {},
   "outputs": [],
   "source": [
    "X['just_one'] = classifier.predict(X.drop(['Password', 'Times'], axis=1))\n",
    "proba = classifier.predict_proba(X.drop(['Password', 'Times', 'just_one'], axis=1))\n",
    "X['one'] = proba[:, 1]\n",
    "X['not_one'] = proba[:, 0]"
   ]
  },
  {
   "cell_type": "code",
   "execution_count": null,
   "metadata": {},
   "outputs": [],
   "source": [
    "X['value'] = 55893 * (1 - X['top_position'].values  / 1000000.)\n",
    "X['value'][X['value'] == 55893] = 0\n",
    "X['value'][X.Password == '123456'] = 55893"
   ]
  },
  {
   "cell_type": "code",
   "execution_count": null,
   "metadata": {},
   "outputs": [],
   "source": [
    "X_train, X_test, y_train, y_test = train_test_split(X.drop(['Password', 'Times'], axis=1), y, random_state=47)"
   ]
  },
  {
   "cell_type": "code",
   "execution_count": null,
   "metadata": {
    "scrolled": true
   },
   "outputs": [],
   "source": [
    "model = LGBMRegressor(random_state=47, metric='rmse')\n",
    "model.fit(X_train, y_train, eval_set=[(np.array(X_test), np.array(y_test))], eval_metric='rmse')"
   ]
  },
  {
   "cell_type": "code",
   "execution_count": null,
   "metadata": {},
   "outputs": [],
   "source": [
    "def rmsle(y, y_pred):\n",
    "    assert len(y) == len(y_pred)\n",
    "    terms_to_sum = [(math.log(y_pred[i] + 1) - math.log(y[i] + 1)) ** 2.0 for i,pred in enumerate(y_pred)]\n",
    "    return (sum(terms_to_sum) * (1.0/len(y))) ** 0.5"
   ]
  },
  {
   "cell_type": "code",
   "execution_count": null,
   "metadata": {},
   "outputs": [],
   "source": [
    "pred = np.exp(model.predict(X_test))\n",
    "pred[pred < 4] = np.round(pred[pred < 4])"
   ]
  },
  {
   "cell_type": "code",
   "execution_count": null,
   "metadata": {},
   "outputs": [],
   "source": [
    "rmsle(np.exp(y_test), pred)"
   ]
  },
  {
   "cell_type": "markdown",
   "metadata": {},
   "source": [
    "Prediction"
   ]
  },
  {
   "cell_type": "code",
   "execution_count": 18,
   "metadata": {
    "scrolled": true
   },
   "outputs": [
    {
     "name": "stdout",
     "output_type": "stream",
     "text": [
      "CPU times: user 3min 35s, sys: 19.7 s, total: 3min 55s\n",
      "Wall time: 49.2 s\n"
     ]
    }
   ],
   "source": [
    "%%time\n",
    "y = np.log(X.Times.values)\n",
    "model = LGBMRegressor(random_state=47, metric='rmse')\n",
    "model.fit(X.drop(['Password', 'Times'], axis=1), y, eval_metric='rmse')"
   ]
  },
  {
   "cell_type": "code",
   "execution_count": 21,
   "metadata": {},
   "outputs": [
    {
     "data": {
      "application/vnd.jupyter.widget-view+json": {
       "model_id": "f90ebf005046462d99e3f842b5bd4db8",
       "version_major": 2,
       "version_minor": 0
      },
      "text/plain": [
       "HBox(children=(IntProgress(value=0, max=8), HTML(value='')))"
      ]
     },
     "metadata": {},
     "output_type": "display_data"
    },
    {
     "name": "stdout",
     "output_type": "stream",
     "text": [
      "\n"
     ]
    },
    {
     "data": {
      "application/vnd.jupyter.widget-view+json": {
       "model_id": "f025f155fec24d3fbcadc511898bce62",
       "version_major": 2,
       "version_minor": 0
      },
      "text/plain": [
       "HBox(children=(IntProgress(value=0, max=1037875), HTML(value='')))"
      ]
     },
     "metadata": {},
     "output_type": "display_data"
    },
    {
     "name": "stdout",
     "output_type": "stream",
     "text": [
      "\n"
     ]
    },
    {
     "data": {
      "application/vnd.jupyter.widget-view+json": {
       "model_id": "3b33eb535c4348b4bab23b12260dfbba",
       "version_major": 2,
       "version_minor": 0
      },
      "text/plain": [
       "HBox(children=(IntProgress(value=0, max=1037875), HTML(value='')))"
      ]
     },
     "metadata": {},
     "output_type": "display_data"
    },
    {
     "name": "stdout",
     "output_type": "stream",
     "text": [
      "\n",
      "CPU times: user 1min 39s, sys: 27.1 s, total: 2min 6s\n",
      "Wall time: 1min 51s\n"
     ]
    }
   ],
   "source": [
    "%%time\n",
    "X_control = add_top_features(test.fillna('0'), files[:8])\n",
    "X_control = all_features(X_control)\n",
    "X_control = num_of_symbols(X_control)\n",
    "X_control = add_words_features(X_control)\n",
    "X_control = add_top_position(X_control)\n",
    "X_control = add_rock_position(X_control)\n",
    "X_control = add_rock_times(X_control)\n",
    "X_control['just_one'] = classifier.predict(X_control.drop(['Id', 'Password'], axis=1))\n",
    "proba_control = classifier.predict_proba(X_control.drop(['Id', 'Password', 'just_one'], axis=1))\n",
    "X_control['one'] = proba_control[:, 1]\n",
    "X_control['not_one'] = proba_control[:, 0]\n",
    "X_control['value'] = 55893 * (1 - X_control['top_position'].values  / 1000000.)\n",
    "X_control['value'][X_control['value'] == 55893] = 0\n",
    "X_control['value'][X_control.Password == '123456'] = 55893"
   ]
  },
  {
   "cell_type": "code",
   "execution_count": 37,
   "metadata": {},
   "outputs": [],
   "source": [
    "prediction = np.exp(model.predict(X_control.drop_duplicates(subset='Password').drop(['Password', 'Id'], axis=1)))\n",
    "prediction[prediction < 4] = np.round(prediction[prediction < 4])\n",
    "pd.DataFrame(prediction, index=range(test.shape[0]), columns=['Times']).to_csv('lgbm_submit13.csv', index_label='Id')"
   ]
  }
 ],
 "metadata": {
  "kernelspec": {
   "display_name": "Python 3",
   "language": "python",
   "name": "python3"
  },
  "language_info": {
   "codemirror_mode": {
    "name": "ipython",
    "version": 3
   },
   "file_extension": ".py",
   "mimetype": "text/x-python",
   "name": "python",
   "nbconvert_exporter": "python",
   "pygments_lexer": "ipython3",
   "version": "3.6.8"
  }
 },
 "nbformat": 4,
 "nbformat_minor": 2
}
